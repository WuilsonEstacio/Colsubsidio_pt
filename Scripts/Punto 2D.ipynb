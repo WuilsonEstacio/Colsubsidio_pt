{
 "cells": [
  {
   "cell_type": "markdown",
   "id": "0944f3d8",
   "metadata": {},
   "source": [
    "## Codigo en Python"
   ]
  },
  {
   "cell_type": "code",
   "execution_count": 1,
   "id": "030a891a",
   "metadata": {},
   "outputs": [
    {
     "name": "stdout",
     "output_type": "stream",
     "text": [
      "Shapiro-Wilk test: ShapiroResult(statistic=np.float64(0.9338527998177892), pvalue=np.float64(0.18310921430217286))\n",
      "Shapiro-Wilk test: ShapiroResult(statistic=np.float64(0.94317567990526), pvalue=np.float64(0.2751152108078052))\n",
      "\n",
      "ANOVA aditivo:\n",
      "          sum_sq    df          F    PR(>F)\n",
      "factorA    1.432   3.0  14.039216  0.000314\n",
      "factorB    0.088   4.0   0.647059  0.639572\n",
      "Residual   0.408  12.0        NaN       NaN\n"
     ]
    }
   ],
   "source": [
    "import pandas as pd\n",
    "import numpy as np\n",
    "import statsmodels.api as sm\n",
    "from statsmodels.formula.api import ols\n",
    "from scipy.stats import shapiro\n",
    "\n",
    "# Datos\n",
    "medida = [2.1, 2.2, 1.8, 2, 1.9, 2.2, 2.6, 2.7, 2.5, 2.8,\n",
    "          1.8, 1.9, 1.6, 2, 1.9, 2.1, 2, 2.2, 2.4, 2.1]\n",
    "\n",
    "factorA = np.repeat([1, 2, 3, 4], 5)   # equivalente a gl(4,5)\n",
    "factorB = np.tile([1, 2, 3, 4, 5], 4)  # equivalente a rep(1:5,4)\n",
    "\n",
    "# Crear DataFrame y convertir factores a categóricos\n",
    "datos = pd.DataFrame({\n",
    "    \"medida\": medida,\n",
    "    \"factorA\": factorA,\n",
    "    \"factorB\": factorB\n",
    "})\n",
    "\n",
    "datos[\"factorA\"] = datos[\"factorA\"].astype(\"category\")\n",
    "datos[\"factorB\"] = datos[\"factorB\"].astype(\"category\")\n",
    "\n",
    "# Modelo ANOVA factorial\n",
    "modelo = ols(\"medida ~ factorA * factorB\", data=datos).fit()\n",
    "\n",
    "# Normalidad de residuos (Shapiro-Wilk)\n",
    "print(\"Shapiro-Wilk test:\", shapiro(modelo.resid))\n",
    "\n",
    "# Tabla ANOVA\n",
    "# Modelo ANOVA aditivo (sin interacción)\n",
    "modelo = ols(\"medida ~ factorA + factorB\", data=datos).fit()\n",
    "\n",
    "# Normalidad de residuos\n",
    "print(\"Shapiro-Wilk test:\", shapiro(modelo.resid))\n",
    "\n",
    "# ANOVA\n",
    "anova_table = sm.stats.anova_lm(modelo, typ=2)\n",
    "print(\"\\nANOVA aditivo:\")\n",
    "print(anova_table)"
   ]
  },
  {
   "cell_type": "markdown",
   "id": "ecce0fd2",
   "metadata": {},
   "source": [
    "## Codigo en R"
   ]
  },
  {
   "cell_type": "code",
   "execution_count": null,
   "id": "762f9eb8",
   "metadata": {},
   "outputs": [],
   "source": [
    "# Datos originales\n",
    "medida <- c(2.1, 2.2, 1.8, 2, 1.9, 2.2, 2.6, 2.7, 2.5, 2.8, \n",
    "            1.8, 1.9, 1.6, 2, 1.9, 2.1, 2, 2.2, 2.4, 2.1)\n",
    "\n",
    "factorA <- gl(4, 5)\n",
    "factorB <- factor(rep(1:5, 4))\n",
    "\n",
    "# Crear data frame\n",
    "datos <- data.frame(medida, factorA, factorB)\n",
    "\n",
    "# Modelo ANOVA sin interacción (efectos principales solamente)\n",
    "modelo <- aov(medida ~ factorA + factorB, data = datos)\n",
    "\n",
    "# Verificar residuos\n",
    "residuos <- resid(modelo)\n",
    "print(\"Primeros residuos:\")\n",
    "print(head(residuos))\n",
    "\n",
    "# Prueba de normalidad (ahora funcionará)\n",
    "shapiro_resultado <- shapiro.test(residuos)\n",
    "print(shapiro_resultado)\n",
    "\n",
    "# ANOVA factorial\n",
    "print(\"ANOVA - Efectos principales:\")\n",
    "summary(modelo)"
   ]
  },
  {
   "cell_type": "markdown",
   "id": "b766493a",
   "metadata": {},
   "source": [
    "## El codigo en el se puyede ejecutar en este compilador"
   ]
  },
  {
   "cell_type": "markdown",
   "id": "0629bc1f",
   "metadata": {},
   "source": [
    "https://onecompiler.com/r/43wt9njde"
   ]
  }
 ],
 "metadata": {
  "kernelspec": {
   "display_name": "Python 3",
   "language": "python",
   "name": "python3"
  },
  "language_info": {
   "codemirror_mode": {
    "name": "ipython",
    "version": 3
   },
   "file_extension": ".py",
   "mimetype": "text/x-python",
   "name": "python",
   "nbconvert_exporter": "python",
   "pygments_lexer": "ipython3",
   "version": "3.11.9"
  }
 },
 "nbformat": 4,
 "nbformat_minor": 5
}
