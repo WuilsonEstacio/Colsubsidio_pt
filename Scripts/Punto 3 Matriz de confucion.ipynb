{
 "cells": [
  {
   "cell_type": "code",
   "execution_count": 6,
   "id": "dce9e7ba",
   "metadata": {},
   "outputs": [],
   "source": [
    "import numpy as np\n",
    "import warnings\n",
    "# import gc\n",
    "import seaborn as sns\n",
    "import matplotlib.pyplot as plt\n",
    "# import unicodedata\n",
    "import numpy as np\n",
    "from sklearn.metrics import (\n",
    "    accuracy_score,\n",
    "    balanced_accuracy_score,\n",
    "    f1_score,\n",
    "    cohen_kappa_score,\n",
    "    matthews_corrcoef\n",
    ")\n",
    "\n",
    "from sklearn.metrics import precision_recall_fscore_support\n",
    "warnings.filterwarnings('ignore')"
   ]
  },
  {
   "cell_type": "code",
   "execution_count": 2,
   "id": "0ff740f4",
   "metadata": {},
   "outputs": [],
   "source": [
    "# Matriz de confusión (filas = clases reales, columnas = clases predichas)\n",
    "# Los valores se extraen de la matriz de la figura del enunciado.\n",
    "cm = np.array([\n",
    "    [12, 26,  0,  4,  7, 21,  4, 1],  # clase real 0\n",
    "    [22, 125, 0, 14, 43, 85, 12, 4],  # clase real 1\n",
    "    [ 0,  0, 444, 0,  0,  0,  0, 0],  # clase real 2\n",
    "    [ 4,  7,  0,  6,  1,  3,  0, 2],  # clase real 3\n",
    "    [ 7, 34,  0,  2, 59, 14,  6, 3],  # clase real 4\n",
    "    [13, 78,  0,  9, 26, 80,  7, 7],  # clase real 5\n",
    "    [ 0, 11,  0,  4, 13, 13,  1, 1],  # clase real 6\n",
    "    [ 1,  9,  0,  1,  3,  5,  1, 1]   # clase real 7\n",
    "])"
   ]
  },
  {
   "cell_type": "code",
   "execution_count": 3,
   "id": "4a42f46b",
   "metadata": {},
   "outputs": [],
   "source": [
    "# Convertir la matriz de confusión en vectores de etiquetas verdaderas y predichas\n",
    "y_true = []\n",
    "y_pred = []\n",
    "n_classes = cm.shape[0]\n",
    "for true_label in range(n_classes):\n",
    "    for pred_label in range(n_classes):\n",
    "        count = cm[true_label, pred_label]\n",
    "        # Añadimos tantas repeticiones como indique la celda (i,j)\n",
    "        y_true += [true_label] * count\n",
    "        y_pred += [pred_label] * count\n",
    "y_true = np.array(y_true)\n",
    "y_pred = np.array(y_pred)"
   ]
  },
  {
   "cell_type": "code",
   "execution_count": 4,
   "id": "c041da09",
   "metadata": {},
   "outputs": [
    {
     "name": "stdout",
     "output_type": "stream",
     "text": [
      "Clase 0: P=0.203, R=0.160, F1=0.179 (n=75)\n",
      "Clase 1: P=0.431, R=0.410, F1=0.420 (n=305)\n",
      "Clase 2: P=1.000, R=1.000, F1=1.000 (n=444)\n",
      "Clase 3: P=0.150, R=0.261, F1=0.190 (n=23)\n",
      "Clase 4: P=0.388, R=0.472, F1=0.426 (n=125)\n",
      "Clase 5: P=0.362, R=0.364, F1=0.363 (n=220)\n",
      "Clase 6: P=0.032, R=0.023, F1=0.027 (n=43)\n",
      "Clase 7: P=0.053, R=0.048, F1=0.050 (n=21)\n"
     ]
    }
   ],
   "source": [
    "# Calcular precisión, recall, F1-score y soporte por clase\n",
    "precision, recall, f1, support = precision_recall_fscore_support(\n",
    "    y_true, y_pred, labels=list(range(n_classes))\n",
    ")\n",
    "\n",
    "# Mostrar resultados por clase\n",
    "for cls in range(n_classes):\n",
    "    print(\n",
    "        f\"Clase {cls}: \"\n",
    "        f\"P={precision[cls]:.3f}, \"\n",
    "        f\"R={recall[cls]:.3f}, \"\n",
    "        f\"F1={f1[cls]:.3f} \"\n",
    "        f\"(n={support[cls]})\"\n",
    "    )"
   ]
  },
  {
   "cell_type": "code",
   "execution_count": null,
   "id": "5f3dd5bb",
   "metadata": {},
   "outputs": [
    {
     "name": "stdout",
     "output_type": "stream",
     "text": [
      "Exactitud (micro): 0.580\n",
      "Balanced accuracy (macro-recall): 0.342\n",
      "Macro-F1: 0.332\n",
      "Weighted-F1: 0.577\n",
      "Cohen’s kappa: 0.455\n",
      "MCC multiclass: 0.456\n"
     ]
    }
   ],
   "source": [
    "\n",
    "# 1) Exactitud micro (accuracy)\n",
    "micro_accuracy = accuracy_score(y_true, y_pred)\n",
    "\n",
    "# 2) Balanced accuracy (macro-recall)\n",
    "balanced_acc = balanced_accuracy_score(y_true, y_pred)\n",
    "\n",
    "# 3) Macro-F1 y Weighted-F1\n",
    "macro_f1 = f1_score(y_true, y_pred, average=\"macro\")\n",
    "weighted_f1 = f1_score(y_true, y_pred, average=\"weighted\")\n",
    "\n",
    "# 4) Cohen’s kappa\n",
    "kappa = cohen_kappa_score(y_true, y_pred)\n",
    "\n",
    "# 5) MCC multiclass\n",
    "mcc = matthews_corrcoef(y_true, y_pred)\n",
    "\n",
    "# Mostrar resultados\n",
    "print(f\"Exactitud (micro): {micro_accuracy:.3f}\")\n",
    "print(f\"Balanced accuracy (macro-recall): {balanced_acc:.3f}\")\n",
    "print(f\"Macro-F1: {macro_f1:.3f}\")\n",
    "print(f\"Weighted-F1: {weighted_f1:.3f}\")\n",
    "print(f\"Cohen’s kappa: {kappa:.3f}\")\n",
    "print(f\"MCC multiclass: {mcc:.3f}\")\n"
   ]
  }
 ],
 "metadata": {
  "kernelspec": {
   "display_name": "Python 3",
   "language": "python",
   "name": "python3"
  },
  "language_info": {
   "codemirror_mode": {
    "name": "ipython",
    "version": 3
   },
   "file_extension": ".py",
   "mimetype": "text/x-python",
   "name": "python",
   "nbconvert_exporter": "python",
   "pygments_lexer": "ipython3",
   "version": "3.11.9"
  }
 },
 "nbformat": 4,
 "nbformat_minor": 5
}
